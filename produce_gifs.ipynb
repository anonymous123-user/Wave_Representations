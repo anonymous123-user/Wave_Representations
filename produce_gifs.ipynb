{
 "cells": [
  {
   "cell_type": "code",
   "execution_count": 24,
   "metadata": {},
   "outputs": [],
   "source": [
    "import yaml\n",
    "from omegaconf import OmegaConf\n",
    "\n",
    "import torch\n",
    "from utils import make_model, set_random_seed, save_model, load_model\n",
    "from trainer import train\n",
    "from dataset import ShapeDataset, load_data\n",
    "from dataset_config import DATASET_CONFIG\n",
    "\n",
    "import torch\n",
    "import torch.nn as nn\n",
    "from torch.utils.data import DataLoader\n",
    "import numpy as np\n",
    "import torchvision\n",
    "import torchvision.transforms as transforms\n",
    "\n",
    "import torch.nn.functional as F\n",
    "\n",
    "from sklearn.cluster import KMeans\n",
    "import fastcluster\n",
    "from scipy.cluster.hierarchy import fcluster\n",
    "\n",
    "import math\n",
    "\n",
    "import matplotlib.pyplot as plt\n",
    "from plotting import plot_phases, plot_results, plot_eval, plot_fourier, plot_phases2, plot_masks, plot_slots, build_color_mask, plot_clusters, plot_clusters2\n",
    "\n",
    "from loss_metrics import get_ar_metrics, compute_pixelwise_accuracy, compute_iou\n",
    "\n",
    "import os\n",
    "import numpy as np\n",
    "import imageio\n",
    "import matplotlib.pyplot as plt\n",
    "import matplotlib.cm as cm\n",
    "from IPython.display import display\n",
    "import ipywidgets as widgets\n",
    "\n",
    "import matplotlib.animation as animation\n",
    "import matplotlib.pyplot as plt\n",
    "from IPython.display import HTML\n",
    "\n",
    "import matplotlib.gridspec as gridspec\n",
    "\n",
    "import seaborn as sns\n",
    "\n",
    "from html2image import Html2Image"
   ]
  },
  {
   "cell_type": "code",
   "execution_count": 2,
   "metadata": {},
   "outputs": [],
   "source": [
    "sns.set()"
   ]
  },
  {
   "cell_type": "markdown",
   "metadata": {},
   "source": [
    "# Data Paths"
   ]
  },
  {
   "cell_type": "code",
   "execution_count": 3,
   "metadata": {},
   "outputs": [],
   "source": [
    "dates = [\n",
    "    \"new_tetronimoes/baseline3_fft/3/lstm_100/\",\n",
    "    \"new_tetronimoes/cornn_model/2/300iters/\"\n",
    "]\n",
    "\n",
    "folder = 'experiments/'\n",
    "hydra_config_file = '.hydra/config.yaml'\n",
    "paths = [folder + date for date in dates]\n",
    "\n",
    "# Function to load a YAML file\n",
    "def load_yaml_file(file_path):\n",
    "    with open(file_path, 'r') as file:\n",
    "        return yaml.safe_load(file)['params']\n",
    "    \n",
    "configs = [load_yaml_file(p + hydra_config_file) for p in paths]\n",
    "\n",
    " # Setup\n",
    "seed = 5\n",
    "device = torch.device(\"cuda\" if torch.cuda.is_available() else \"cpu\")\n",
    "set_random_seed(seed)"
   ]
  },
  {
   "cell_type": "markdown",
   "metadata": {},
   "source": [
    "# Load models"
   ]
  },
  {
   "cell_type": "code",
   "execution_count": 4,
   "metadata": {},
   "outputs": [],
   "source": [
    "# Load saved models\n",
    "def load_model(cp_folder, config, device, data_config):\n",
    "    data_config = data_config[config['dataset']]\n",
    "    if 'cell_type' in config.keys():\n",
    "        cell_type = config['cell_type']\n",
    "    else:\n",
    "        cell_type = None\n",
    "    if 'dt1' in config.keys():\n",
    "        dt = config['dt1']\n",
    "    else:\n",
    "        dt = config['dt']\n",
    "    # Make model\n",
    "    net = make_model(\n",
    "        device,\n",
    "        config['block_type'],\n",
    "        config['model_type'],\n",
    "        config['oscillator_type'],\n",
    "        config['num_classes'],\n",
    "        config['N'],\n",
    "        config['M'],\n",
    "        dt,\n",
    "        config['min_iters'],\n",
    "        config['max_iters'],\n",
    "        data_config['channels'],\n",
    "        config['hidden_channels'],\n",
    "        config['rnn_kernel'],\n",
    "        config['num_blocks'],\n",
    "        config['num_slots'],\n",
    "        config['num_iters'],\n",
    "        data_config['img_size'],\n",
    "        config['kernel_init'],\n",
    "        cell_type=cell_type,\n",
    "        num_layers=config['num_layers'],\n",
    "    )\n",
    "\n",
    "    net.load_state_dict(torch.load(cp_folder + \"cp.pt\"), strict=False)\n",
    "    net.eval()\n",
    "    return net.to(device)"
   ]
  },
  {
   "cell_type": "code",
   "execution_count": 5,
   "metadata": {},
   "outputs": [],
   "source": [
    "models = [load_model(paths[i], configs[i], device, DATASET_CONFIG) for i in range(len(paths))]"
   ]
  },
  {
   "cell_type": "markdown",
   "metadata": {},
   "source": [
    "# Forward"
   ]
  },
  {
   "cell_type": "code",
   "execution_count": 6,
   "metadata": {},
   "outputs": [],
   "source": [
    "def forward_cornn(net, x):\n",
    "    # ENCODE\n",
    "    #x = net.encoder(x)\n",
    "    B, C, H, W = x.shape\n",
    "\n",
    "    # 1) Precompute omega, alpha from single input x\n",
    "    omega = net.omega_encoder(x)     # shape (B,1,H,W)\n",
    "    alpha = net.alpha_encoder(x)     # shape (B,1,H,W)\n",
    "\n",
    "    # Flatten to (B, H*W)\n",
    "    omega = omega.view(B, net.c_out, -1)\n",
    "    alpha = alpha.view(B, net.c_out, -1)\n",
    "\n",
    "    # 2) Initialize hidden states (hy, hz)\n",
    "    hy_init = net.hy_encoder(x)  # shape (B,1,H,W)\n",
    "    hy = hy_init.view(B, net.c_out, -1)      # (B,H*W)\n",
    "    hz = torch.zeros_like(hy)     # start velocity at 0\n",
    "\n",
    "    # 3) Run dynamics\n",
    "    y_seq = []\n",
    "    for t in range(net.T):\n",
    "        hy, hz = net.cell(\n",
    "            x_t=x,  # optional usage\n",
    "            hy=hy, \n",
    "            hz=hz, \n",
    "            omega=omega, \n",
    "            alpha=alpha\n",
    "        )\n",
    "        y_seq.append(hy)  # each is (B,H*W)\n",
    "\n",
    "    ###\n",
    "    # Stack timeseries => shape (T, B, H*W)\n",
    "    y_seq = torch.stack(y_seq, dim=0)  # (T, B, C, H*W)\n",
    "    y_seq = y_seq.permute(1, 3, 2, 0)  # => (B, H*W, C, T)\n",
    "    y_seq = y_seq.reshape(B*H*W, net.c_out, net.T)  # => (B*H*W, T)\n",
    "    # 5) Real FFT => shape (B*H*W, T//2 + 1)\n",
    "    #    then magnitude => same shape\n",
    "    fft_vals = torch.fft.rfft(y_seq, dim=2)        # complex, shape (B*H*W, C, T//2+1)\n",
    "    fft_mag = torch.abs(fft_vals)                  # real, same shape\n",
    "    # 6) MLP readout => (B*H*W, n_classes)\n",
    "    logits_flat = net.readout(fft_mag.reshape(fft_mag.size(0), -1))\n",
    "    # 7) Reshape => (B, H, W, n_classes) -> (B, n_classes, H, W)\n",
    "    logits = logits_flat.view(B, H, W, net.n_classes)\n",
    "    logits = logits.permute(0, 3, 1, 2).contiguous()  # (B,n_classes,H,W)\n",
    "\n",
    "    y_seq = y_seq.view(B, H, W, net.c_out, net.T)\n",
    "    y_seq = torch.permute(y_seq, (0, 4, 3, 1, 2))\n",
    "\n",
    "    # reshape fft_mag => (B,H,W, T//2+1) to analyze or plot\n",
    "    fft_mag = fft_mag.view(B, H, W, net.c_out, -1)\n",
    "    fft_mag = torch.permute(fft_mag, (0, 4, 3, 1, 2))\n",
    "\n",
    "    return logits, y_seq, fft_mag\n",
    "\n",
    "def forward_lstm(net, x):\n",
    "    #x = net.encoder(x)\n",
    "    B, C, H, W = x.shape\n",
    "\n",
    "    hy = net.hy_encoder(x) # B x c_out x N x N\n",
    "    hz = net.hz_encoder(x)\n",
    "    hc = net.hc_encoder(x) # Only used for lstmcell\n",
    "\n",
    "    y_seq = []\n",
    "    for t in range(net.T):\n",
    "        hy, hz, hc = net.recurrent_cell(hy, hz, hc)\n",
    "        y_seq.append(hy)\n",
    "\n",
    "    y_seq = torch.stack(y_seq, dim=1) # (B, T, c_out, H, W)\n",
    "    fft_vals = torch.fft.rfft(y_seq, dim=1) # (B, K, c_out, H, W)\n",
    "    fft_mag = torch.abs(fft_vals) # (B, K, c_out, H, W)\n",
    "    fft_mag = fft_mag.reshape(B, -1, H, W) # (B, K*c_out, H, W)\n",
    "    logits = net.readout(torch.transpose(fft_mag, 1, 3)) # (B, W, H, n_classes)\n",
    "    fft_mag = fft_mag.reshape(B, net.K, net.c_out, H, W) # (B, K*c_out, H, W)\n",
    "    logits = torch.transpose(logits, 1, 3) # (B, n_classes, H, W)\n",
    "    return logits, y_seq, fft_mag\n",
    "\n",
    "def eval_model(net, batch, device, config):\n",
    "    net.eval()\n",
    "    x, x_target = batch\n",
    "    x = x.to(device)\n",
    "    b, c, h, w = x.size()\n",
    "\n",
    "    if 'baseline' in config['model_type']:\n",
    "        logits, y_seq, fft_mag = forward_lstm(net.classifier, x)\n",
    "    else:\n",
    "        logits, y_seq, fft_mag = forward_cornn(net.classifier, x)\n",
    "        \n",
    "    mask = torch.argmax(logits, dim=1)\n",
    "    return mask, y_seq, fft_mag"
   ]
  },
  {
   "cell_type": "markdown",
   "metadata": {},
   "source": [
    "# Set up data"
   ]
  },
  {
   "cell_type": "code",
   "execution_count": 7,
   "metadata": {},
   "outputs": [],
   "source": [
    "# Load data\n",
    "data_config1 = DATASET_CONFIG['new_tetronimoes']\n",
    "data_config2 = DATASET_CONFIG['mnist']\n",
    "_, testset1 = load_data('new_tetronimoes', data_config1)\n",
    "_, testset2 = load_data('mnist', data_config2)\n",
    "\n",
    "testloader1 = DataLoader(testset1, batch_size=16, shuffle=True, drop_last=False)\n",
    "testloader2 = DataLoader(testset2, batch_size=16, shuffle=True, drop_last=False)\n",
    "batch1 = next(iter(testloader1))\n",
    "batch2 = next(iter(testloader2))\n",
    "\n",
    "testsets = {\n",
    "    'new_tetronimoes' : batch1,\n",
    "    'mnist' : batch2,\n",
    "}"
   ]
  },
  {
   "cell_type": "code",
   "execution_count": 8,
   "metadata": {},
   "outputs": [],
   "source": [
    "masks = []\n",
    "states = []\n",
    "ffts = []\n",
    "for i, net in enumerate(models):\n",
    "    config = configs[i]\n",
    "    dataset = config['dataset']\n",
    "    batch = testsets[dataset]\n",
    "    model_type = config['model_type']\n",
    "    if model_type == 'baseline3_fft' or model_type == 'cornn_model':\n",
    "        mask, y_seq, fft_mag = eval_model(net, batch, device, config)\n",
    "        masks.append(mask)\n",
    "        states.append(y_seq)\n",
    "        ffts.append(fft_mag)"
   ]
  },
  {
   "cell_type": "markdown",
   "metadata": {},
   "source": [
    "# Plot masks"
   ]
  },
  {
   "cell_type": "code",
   "execution_count": 9,
   "metadata": {},
   "outputs": [],
   "source": [
    "def plot_masks(masks, title):\n",
    "    masks = masks.detach().cpu().numpy()\n",
    "    fig, axes = plt.subplots(1, 16, figsize=(16, 1))\n",
    "    for i in range(16):\n",
    "        axes[i].imshow(masks[i])\n",
    "        axes[i].set_xticks([])\n",
    "        axes[i].set_yticks([])\n",
    "    axes[0].set_title(title)\n",
    "    plt.show()"
   ]
  },
  {
   "cell_type": "code",
   "execution_count": 10,
   "metadata": {},
   "outputs": [
    {
     "data": {
      "image/png": "[encoded data removed]",
      "text/plain": [
       "<Figure size 1600x100 with 16 Axes>"
      ]
     },
     "metadata": {},
     "output_type": "display_data"
    },
    {
     "data": {
      "image/png": "[encoded data removed]",
      "text/plain": [
       "<Figure size 1600x100 with 16 Axes>"
      ]
     },
     "metadata": {},
     "output_type": "display_data"
    }
   ],
   "source": [
    "for i, net in enumerate(models):\n",
    "    plot_masks(masks[i], title=configs[i]['model_type'])"
   ]
  },
  {
   "cell_type": "code",
   "execution_count": 13,
   "metadata": {},
   "outputs": [],
   "source": [
    "# 2, 4, 5, 7, 8, 9, 10, 11, 12\n",
    "samples = [2, 4, 5, 7, 8, 9, 10, 11, 12]"
   ]
  },
  {
   "cell_type": "markdown",
   "metadata": {},
   "source": [
    "# Look at gifs and choose timesteps we want to plot"
   ]
  },
  {
   "cell_type": "code",
   "execution_count": 37,
   "metadata": {},
   "outputs": [],
   "source": [
    "def plot_hidden_state_video(y_seq, sample_idx=0, interval=200, fpath=None):\n",
    "    \"\"\"\n",
    "    Given y_seq of shape (T,B,H,W), animate the hidden state for the sample\n",
    "    `sample_idx` across timesteps T.\n",
    "    \n",
    "    - `interval` controls the animation speed (milliseconds between frames).\n",
    "    - returns: HTML object that, when displayed in Jupyter, shows the animation.\n",
    "    \"\"\"\n",
    "    T, B, H, W = y_seq.shape\n",
    "    assert 0 <= sample_idx < B, f\"sample_idx must be in [0..{B-1}]\"\n",
    "    \n",
    "    # Subsample to 100 frames if sequence is too long\n",
    "    if T > 100:\n",
    "        indices = np.linspace(0, T-1, 100, dtype=int)\n",
    "        y_seq = y_seq[indices]\n",
    "        T = 100\n",
    "    \n",
    "    # We'll animate frames across t=0..T-1\n",
    "    #  shape => (T,H,W)\n",
    "    y_seq_np = y_seq[:, sample_idx].cpu().numpy()  # -> (T,H,W)\n",
    "    \n",
    "    # We can pick vmin/vmax across the entire timeseries for a stable color scale\n",
    "    vmin = y_seq_np.min()\n",
    "    vmax = y_seq_np.max()\n",
    "    \n",
    "    fig, ax = plt.subplots()\n",
    "    im = ax.imshow(y_seq_np[0], cmap='bwr', vmin=vmin, vmax=vmax)\n",
    "    #ax.set_title(f\"Hidden state evolution (sample={sample_idx})\")\n",
    "    ax.set_xticks([])\n",
    "    ax.set_yticks([])\n",
    "    #fig.tight_layout()\n",
    "    plt.colorbar(im, ax=ax)\n",
    "    \n",
    "    def animate(t):\n",
    "        im.set_array(y_seq_np[t])\n",
    "        ax.set_xlabel(f\"t = {t}\")\n",
    "        return [im]\n",
    "    \n",
    "    ani = animation.FuncAnimation(\n",
    "        fig, animate, \n",
    "        frames=T, \n",
    "        interval=interval, \n",
    "        blit=True\n",
    "    )\n",
    "\n",
    "    if fpath is not None:\n",
    "        ani.save(f'{fpath}.gif', writer='pillow', fps=5)\n",
    "\n",
    "    plt.close(fig)  # so that we don't get a duplicate static plot\n",
    "    #return HTML(ani.to_jshtml())\n",
    "\n",
    "def plot_hidden(y, sample, channel, interval=200, fpath=None):\n",
    "    y = torch.transpose(y, 0, 1).detach()\n",
    "    return plot_hidden_state_video(y[:,:,channel], sample_idx=sample, interval=200, fpath=fpath)"
   ]
  },
  {
   "cell_type": "code",
   "execution_count": 41,
   "metadata": {},
   "outputs": [],
   "source": [
    "gif_folder = \"gifs\""
   ]
  },
  {
   "cell_type": "code",
   "execution_count": 39,
   "metadata": {},
   "outputs": [
    {
     "data": {
      "text/plain": [
       "[2, 4, 5, 7, 8, 9, 10, 11, 12]"
      ]
     },
     "execution_count": 39,
     "metadata": {},
     "output_type": "execute_result"
    }
   ],
   "source": [
    "samples"
   ]
  },
  {
   "cell_type": "code",
   "execution_count": 42,
   "metadata": {},
   "outputs": [],
   "source": [
    "for sample in samples:\n",
    "    fpath = f\"{gif_folder}/lstm_sample-{sample}\"\n",
    "    plot_hidden(states[0], sample=sample, channel=0, fpath=fpath)"
   ]
  },
  {
   "cell_type": "code",
   "execution_count": 43,
   "metadata": {},
   "outputs": [],
   "source": [
    "for sample in samples:\n",
    "    fpath = f\"{gif_folder}/cornn_sample-{sample}\"\n",
    "    plot_hidden(states[1], sample=sample, channel=0, fpath=fpath)"
   ]
  },
  {
   "cell_type": "code",
   "execution_count": null,
   "metadata": {},
   "outputs": [],
   "source": []
  }
 ],
 "metadata": {
  "kernelspec": {
   "display_name": "slot_attention6",
   "language": "python",
   "name": "python3"
  },
  "language_info": {
   "codemirror_mode": {
    "name": "ipython",
    "version": 3
   },
   "file_extension": ".py",
   "mimetype": "text/x-python",
   "name": "python",
   "nbconvert_exporter": "python",
   "pygments_lexer": "ipython3",
   "version": "3.12.3"
  }
 },
 "nbformat": 4,
 "nbformat_minor": 2
}
